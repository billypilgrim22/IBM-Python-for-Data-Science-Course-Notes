{
 "cells": [
  {
   "cell_type": "code",
   "execution_count": 1,
   "id": "corrected-thirty",
   "metadata": {},
   "outputs": [],
   "source": [
    "#------------------------COMPARISON OPERATORS--------------------------"
   ]
  },
  {
   "cell_type": "code",
   "execution_count": 2,
   "id": "academic-bathroom",
   "metadata": {},
   "outputs": [
    {
     "data": {
      "text/plain": [
       "True"
      ]
     },
     "execution_count": 2,
     "metadata": {},
     "output_type": "execute_result"
    }
   ],
   "source": [
    "# \"==\" checks for equality , same for > , < , >= , <= , !=\n",
    "a=7\n",
    "b=7\n",
    "a==b"
   ]
  },
  {
   "cell_type": "code",
   "execution_count": 4,
   "id": "medical-formula",
   "metadata": {},
   "outputs": [
    {
     "data": {
      "text/plain": [
       "True"
      ]
     },
     "execution_count": 4,
     "metadata": {},
     "output_type": "execute_result"
    }
   ],
   "source": [
    "a>=7"
   ]
  },
  {
   "cell_type": "code",
   "execution_count": 5,
   "id": "identified-stanford",
   "metadata": {},
   "outputs": [],
   "source": [
    "#We can compare strings and floats as well"
   ]
  },
  {
   "cell_type": "code",
   "execution_count": 6,
   "id": "requested-farming",
   "metadata": {},
   "outputs": [],
   "source": [
    "#---------------------BRANCHING------------------------"
   ]
  },
  {
   "cell_type": "code",
   "execution_count": 7,
   "id": "dedicated-commitment",
   "metadata": {},
   "outputs": [],
   "source": [
    "#------------------------IF , ELSE , ELIF ----------------------------"
   ]
  },
  {
   "cell_type": "code",
   "execution_count": 9,
   "id": "consistent-england",
   "metadata": {},
   "outputs": [
    {
     "name": "stdout",
     "output_type": "stream",
     "text": [
      "Enter concert!\n",
      "move on\n"
     ]
    }
   ],
   "source": [
    "age=18\n",
    "if(age>=18):\n",
    "    print(\"Enter concert!\")\n",
    "print(\"move on\")"
   ]
  },
  {
   "cell_type": "code",
   "execution_count": 11,
   "id": "charged-eating",
   "metadata": {},
   "outputs": [
    {
     "name": "stdout",
     "output_type": "stream",
     "text": [
      "Do not enter.\n",
      "move on\n"
     ]
    }
   ],
   "source": [
    "age=14\n",
    "if(age>=18):\n",
    "    print(\"Enter concert!\")\n",
    "else:\n",
    "    print(\"Do not enter.\")\n",
    "print(\"move on\")"
   ]
  },
  {
   "cell_type": "code",
   "execution_count": 16,
   "id": "computational-mandate",
   "metadata": {},
   "outputs": [
    {
     "name": "stdout",
     "output_type": "stream",
     "text": [
      "Okay then!\n",
      "move on\n"
     ]
    }
   ],
   "source": [
    "age=17\n",
    "if(age>=18):\n",
    "    print(\"Enter concert!\")\n",
    "elif(age==17):\n",
    "    print(\"Okay then!\")\n",
    "else:\n",
    "    print(\"Do not enter.\")\n",
    "print(\"move on\")"
   ]
  },
  {
   "cell_type": "code",
   "execution_count": 17,
   "id": "russian-equipment",
   "metadata": {},
   "outputs": [],
   "source": [
    "#----------------------LOGIC OPERATORS--------------------------"
   ]
  },
  {
   "cell_type": "code",
   "execution_count": 18,
   "id": "colonial-buffalo",
   "metadata": {},
   "outputs": [
    {
     "data": {
      "text/plain": [
       "False"
      ]
     },
     "execution_count": 18,
     "metadata": {},
     "output_type": "execute_result"
    }
   ],
   "source": [
    "#not(x) operator produces false if input is true , and vice versa\n",
    "x=17\n",
    "y=17\n",
    "not(x==y)"
   ]
  },
  {
   "cell_type": "code",
   "execution_count": 19,
   "id": "rough-accent",
   "metadata": {},
   "outputs": [
    {
     "name": "stdout",
     "output_type": "stream",
     "text": [
      "Or works!\n"
     ]
    }
   ],
   "source": [
    "#\"or\" operator does boolean or function\n",
    "x=9\n",
    "if(x==9 or x==10):\n",
    "    print(\"Or works!\")\n",
    "else:\n",
    "    print(\"Nope\")"
   ]
  },
  {
   "cell_type": "code",
   "execution_count": 21,
   "id": "activated-louisiana",
   "metadata": {},
   "outputs": [
    {
     "name": "stdout",
     "output_type": "stream",
     "text": [
      "And works!\n"
     ]
    }
   ],
   "source": [
    "#\"and\" operator does boolean and function\n",
    "x=9\n",
    "y=99\n",
    "if(x==9 and y==99):\n",
    "    print(\"And works!\")\n",
    "else:\n",
    "    print(\"Nope\")"
   ]
  },
  {
   "cell_type": "code",
   "execution_count": 22,
   "id": "given-array",
   "metadata": {},
   "outputs": [],
   "source": [
    "#------------------------LOOPS-------------------------"
   ]
  },
  {
   "cell_type": "code",
   "execution_count": 23,
   "id": "underlying-finish",
   "metadata": {},
   "outputs": [],
   "source": [
    "#range funcion range(N) , take values of N from [0,.....,N-1]\n",
    "#range function range(x,y) , takes values from [x,.....,y-1]\n",
    "#range function range(x,y,z) , increments from x to y by z"
   ]
  },
  {
   "cell_type": "code",
   "execution_count": 26,
   "id": "herbal-stewart",
   "metadata": {},
   "outputs": [
    {
     "name": "stdout",
     "output_type": "stream",
     "text": [
      "['white', 'yellow', 'white', 'purple', 'white']\n"
     ]
    }
   ],
   "source": [
    "#---------------------for loops------------------\n",
    "#we can iterate through a string , for x in \"string\":\n",
    "squares=[\"red\",\"yellow\",\"green\",\"purple\",\"blue\"]\n",
    "for i in range(0,5,2):\n",
    "    squares[i] = \"white\"\n",
    "print(squares)"
   ]
  },
  {
   "cell_type": "code",
   "execution_count": 43,
   "id": "eligible-prior",
   "metadata": {},
   "outputs": [
    {
     "name": "stdout",
     "output_type": "stream",
     "text": [
      "['redred', 'yellowyellow', 'greengreen', 'purplepurple', 'blueblue']\n"
     ]
    }
   ],
   "source": [
    "#we can iterate through a list or tuple without range function (for square in squares:)\n",
    "squares=[\"red\",\"yellow\",\"green\",\"purple\",\"blue\"]\n",
    "for i in range(0,len(squares)):\n",
    "    squares[i]=squares[i]*2\n",
    "print(squares)"
   ]
  },
  {
   "cell_type": "code",
   "execution_count": 47,
   "id": "natural-celebrity",
   "metadata": {},
   "outputs": [
    {
     "name": "stdout",
     "output_type": "stream",
     "text": [
      "red\n",
      "0\n",
      "yellow\n",
      "1\n",
      "green\n",
      "2\n"
     ]
    }
   ],
   "source": [
    "#enumerate function can obtain index and element in the list\n",
    "squares=[\"red\" , \"yellow\" , \"green\"]\n",
    "for i,square in enumerate(squares):\n",
    "    square\n",
    "    i\n",
    "    print(square)\n",
    "    print(i)"
   ]
  },
  {
   "cell_type": "code",
   "execution_count": null,
   "id": "referenced-davis",
   "metadata": {},
   "outputs": [],
   "source": [
    "#----------------------------while loops----------------------------"
   ]
  },
  {
   "cell_type": "code",
   "execution_count": 1,
   "id": "relevant-hierarchy",
   "metadata": {},
   "outputs": [
    {
     "name": "stdout",
     "output_type": "stream",
     "text": [
      "['orange', 'orange']\n"
     ]
    }
   ],
   "source": [
    "squares=[\"orange\" , \"orange\" , \"purple\" , \"blue\"]\n",
    "newsquares=[]\n",
    "i=0\n",
    "while(squares[i]==\"orange\"):\n",
    "    newsquares.append(squares[i])\n",
    "    i=i+1\n",
    "print(newsquares)"
   ]
  },
  {
   "cell_type": "code",
   "execution_count": 51,
   "id": "familiar-louisville",
   "metadata": {},
   "outputs": [],
   "source": [
    "#----------------------------FUNCTIONS------------------------------"
   ]
  },
  {
   "cell_type": "code",
   "execution_count": 52,
   "id": "convertible-evaluation",
   "metadata": {},
   "outputs": [],
   "source": [
    "#len(x) gives length\n",
    "#sum(s) fives total of all elements\n",
    "#sorted() returns a new sorted list , while sort() sorts the function within itself"
   ]
  },
  {
   "cell_type": "code",
   "execution_count": 56,
   "id": "spare-listening",
   "metadata": {},
   "outputs": [
    {
     "name": "stdout",
     "output_type": "stream",
     "text": [
      "156\n"
     ]
    }
   ],
   "source": [
    "#making functions\n",
    "#in first line of function , mention what it does\n",
    "def double(a):\n",
    "    \"\"\"\n",
    "    doubles input a\n",
    "    \"\"\"\n",
    "    s=a*2\n",
    "    return s\n",
    "a=78\n",
    "print(double(a))"
   ]
  },
  {
   "cell_type": "code",
   "execution_count": 58,
   "id": "ready-static",
   "metadata": {},
   "outputs": [
    {
     "name": "stdout",
     "output_type": "stream",
     "text": [
      "Album 0 rating is 10\n",
      "Album 1 rating is 8\n",
      "Album 2 rating is 8.5\n",
      "Album 3 rating is 7\n"
     ]
    }
   ],
   "source": [
    "def printStuff(Stuff):\n",
    "    for i,s in enumerate(Stuff):\n",
    "        print(\"Album\",i,\"rating is\",s)\n",
    "alb=[10,8,8.5,7]\n",
    "printStuff(alb)"
   ]
  },
  {
   "cell_type": "code",
   "execution_count": 62,
   "id": "executive-print",
   "metadata": {},
   "outputs": [
    {
     "name": "stdout",
     "output_type": "stream",
     "text": [
      "Meme\n",
      "Ocean\n"
     ]
    }
   ],
   "source": [
    "#Variadic parameters allow to input variable number of inputs\n",
    "def Name(*name):\n",
    "    for n in name:\n",
    "        print(n)\n",
    "Name(\"Meme\",\"Ocean\")"
   ]
  },
  {
   "cell_type": "code",
   "execution_count": 63,
   "id": "eastern-pendant",
   "metadata": {},
   "outputs": [],
   "source": [
    "#Variables outside functions have global scope\n",
    "#Variables inside function has local scope\n",
    "#If variable used within function is not defined within function , but is a global variable , the function will use the global variable\n",
    "#if we define a variable \"global var_name\" , it can be used outside the function also"
   ]
  },
  {
   "cell_type": "code",
   "execution_count": 64,
   "id": "concerned-grounds",
   "metadata": {},
   "outputs": [],
   "source": [
    "#----------------------------Objects and CLasses--------------------------------"
   ]
  },
  {
   "cell_type": "code",
   "execution_count": 66,
   "id": "brutal-break",
   "metadata": {},
   "outputs": [
    {
     "name": "stdout",
     "output_type": "stream",
     "text": [
      "amabala\n"
     ]
    }
   ],
   "source": [
    "#every time we create an integer , we create an instance of int, or an int object\n",
    "#listname.reverse() reverses the list , for sting put [::-1]\n",
    "a=\"alabama\"\n",
    "b=a[::-1]\n",
    "print(b)"
   ]
  },
  {
   "cell_type": "code",
   "execution_count": null,
   "id": "increasing-headset",
   "metadata": {},
   "outputs": [],
   "source": [
    "#--------------------Class--------------------"
   ]
  },
  {
   "cell_type": "code",
   "execution_count": 68,
   "id": "roman-piano",
   "metadata": {},
   "outputs": [
    {
     "name": "stdout",
     "output_type": "stream",
     "text": [
      "4 \t red\n"
     ]
    }
   ],
   "source": [
    "class circle(object):\n",
    "    def __init__(self,radius,color):\n",
    "        self.radius=radius;\n",
    "        self.color=color;\n",
    "c1 = circle(4,\"red\")\n",
    "print(c1.radius,\"\\t\",c1.color)"
   ]
  },
  {
   "cell_type": "code",
   "execution_count": null,
   "id": "solid-huntington",
   "metadata": {},
   "outputs": [],
   "source": [
    "#we can also change attribute of the object\n",
    "c1.color=\"blue\""
   ]
  },
  {
   "cell_type": "code",
   "execution_count": 71,
   "id": "overhead-volleyball",
   "metadata": {},
   "outputs": [
    {
     "name": "stdout",
     "output_type": "stream",
     "text": [
      "11\n"
     ]
    }
   ],
   "source": [
    "#we can create methods within class to modify data in the class\n",
    "class circle(object):\n",
    "    def __init__(self,radius,color):\n",
    "        self.radius=radius;\n",
    "        self.color=color;\n",
    "    def add_radius(self,r):\n",
    "        self.radius = self.radius+r\n",
    "c1 = circle(4,\"red\")\n",
    "c1.add_radius(7)\n",
    "print(c1.radius)"
   ]
  },
  {
   "cell_type": "code",
   "execution_count": 72,
   "id": "cognitive-clearing",
   "metadata": {},
   "outputs": [
    {
     "data": {
      "text/plain": [
       "['__class__',\n",
       " '__delattr__',\n",
       " '__dict__',\n",
       " '__dir__',\n",
       " '__doc__',\n",
       " '__eq__',\n",
       " '__format__',\n",
       " '__ge__',\n",
       " '__getattribute__',\n",
       " '__gt__',\n",
       " '__hash__',\n",
       " '__init__',\n",
       " '__init_subclass__',\n",
       " '__le__',\n",
       " '__lt__',\n",
       " '__module__',\n",
       " '__ne__',\n",
       " '__new__',\n",
       " '__reduce__',\n",
       " '__reduce_ex__',\n",
       " '__repr__',\n",
       " '__setattr__',\n",
       " '__sizeof__',\n",
       " '__str__',\n",
       " '__subclasshook__',\n",
       " '__weakref__',\n",
       " 'add_radius',\n",
       " 'color',\n",
       " 'radius']"
      ]
     },
     "execution_count": 72,
     "metadata": {},
     "output_type": "execute_result"
    }
   ],
   "source": [
    "#dir shows list of data attributes\n",
    "dir(c1)"
   ]
  },
  {
   "cell_type": "code",
   "execution_count": 73,
   "id": "shared-disclosure",
   "metadata": {},
   "outputs": [],
   "source": [
    "#can initialize by def __init__(self,radius=0,color=\"white\")"
   ]
  },
  {
   "cell_type": "code",
   "execution_count": 74,
   "id": "stock-springfield",
   "metadata": {},
   "outputs": [
    {
     "name": "stdout",
     "output_type": "stream",
     "text": [
      "Please enter a number to divide a0\n",
      "Something went wrong\n",
      "Processing Complete\n"
     ]
    }
   ],
   "source": [
    "#-------------------------TRY EXCEPT FINALLY---------------------------\n",
    "try:\n",
    "    b = int(input(\"Please enter a number to divide a: \"))\n",
    "    a = a/b\n",
    "except ZeroDivisionError:\n",
    "    print(\"The number you provided cant divide 1 because it is 0\")\n",
    "except ValueError:\n",
    "    print(\"You did not provide a number\")\n",
    "except:\n",
    "    print(\"Something went wrong\")\n",
    "else:\n",
    "    print(\"success a=\",a)\n",
    "finally:\n",
    "    print(\"Processing Complete\")"
   ]
  },
  {
   "cell_type": "code",
   "execution_count": null,
   "id": "secret-capability",
   "metadata": {},
   "outputs": [],
   "source": []
  }
 ],
 "metadata": {
  "kernelspec": {
   "display_name": "Python 3",
   "language": "python",
   "name": "python3"
  },
  "language_info": {
   "codemirror_mode": {
    "name": "ipython",
    "version": 3
   },
   "file_extension": ".py",
   "mimetype": "text/x-python",
   "name": "python",
   "nbconvert_exporter": "python",
   "pygments_lexer": "ipython3",
   "version": "3.9.1"
  }
 },
 "nbformat": 4,
 "nbformat_minor": 5
}
