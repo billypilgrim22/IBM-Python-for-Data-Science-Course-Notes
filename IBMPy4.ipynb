{
 "cells": [
  {
   "cell_type": "code",
   "execution_count": 8,
   "id": "front-nightmare",
   "metadata": {},
   "outputs": [],
   "source": [
    "#w=writing , r=reading , a=appending\n",
    "File1=open(\"C:/Users/ashwi/Desktop/trial.txt\",\"r\")"
   ]
  },
  {
   "cell_type": "code",
   "execution_count": 6,
   "id": "tutorial-patent",
   "metadata": {},
   "outputs": [
    {
     "data": {
      "text/plain": [
       "'C:/Users/ashwi/Desktop/trial.txt'"
      ]
     },
     "execution_count": 6,
     "metadata": {},
     "output_type": "execute_result"
    }
   ],
   "source": [
    "File1.name"
   ]
  },
  {
   "cell_type": "code",
   "execution_count": 9,
   "id": "pacific-laundry",
   "metadata": {},
   "outputs": [
    {
     "data": {
      "text/plain": [
       "'r'"
      ]
     },
     "execution_count": 9,
     "metadata": {},
     "output_type": "execute_result"
    }
   ],
   "source": [
    "File1.mode"
   ]
  },
  {
   "cell_type": "code",
   "execution_count": 10,
   "id": "ignored-decision",
   "metadata": {},
   "outputs": [],
   "source": [
    "File1.close()"
   ]
  },
  {
   "cell_type": "code",
   "execution_count": 11,
   "id": "elementary-circuit",
   "metadata": {},
   "outputs": [
    {
     "name": "stdout",
     "output_type": "stream",
     "text": [
      "all we ever hear from you is blah blah blah\n"
     ]
    }
   ],
   "source": [
    "#Good practice is to use \"with\" , which will use the file and close automatically\n",
    "with open(\"C:/Users/ashwi/Desktop/trial.txt\",\"r\") as File1:\n",
    "    file_stuff=File1.read()\n",
    "    print(file_stuff)"
   ]
  },
  {
   "cell_type": "code",
   "execution_count": 12,
   "id": "designed-minutes",
   "metadata": {},
   "outputs": [
    {
     "name": "stdout",
     "output_type": "stream",
     "text": [
      "['all \\n', 'we\\n', 'ever\\n', 'hear\\n', 'from\\n', 'you is blah blah blah']\n"
     ]
    }
   ],
   "source": [
    "#readlines() assigns each line as an element in a list \n",
    "with open(\"C:/Users/ashwi/Desktop/trial.txt\",\"r\") as File1:\n",
    "    file_stuff=File1.readlines()\n",
    "    print(file_stuff)"
   ]
  },
  {
   "cell_type": "code",
   "execution_count": null,
   "id": "empirical-illustration",
   "metadata": {},
   "outputs": [],
   "source": [
    "#f1.readline(), NOT READLINES , will read only the first line in the file\n",
    "#if readline() is called twice it wil first read line 1 and then read line2 "
   ]
  },
  {
   "cell_type": "code",
   "execution_count": 13,
   "id": "alternate-newman",
   "metadata": {},
   "outputs": [
    {
     "name": "stdout",
     "output_type": "stream",
     "text": [
      "all \n",
      "\n",
      "we\n",
      "\n",
      "ever\n",
      "\n",
      "hear\n",
      "\n",
      "from\n",
      "\n",
      "you is blah blah blah\n"
     ]
    }
   ],
   "source": [
    "#loop can be used to print out each line individually\n",
    "with open(\"C:/Users/ashwi/Desktop/trial.txt\",\"r\") as File1:\n",
    "    for line in File1:\n",
    "        print(line)"
   ]
  },
  {
   "cell_type": "code",
   "execution_count": null,
   "id": "geographic-member",
   "metadata": {},
   "outputs": [],
   "source": [
    "#f1.readlines(n) , will print out first n characters in the file. Again if we call it , it will read next n characters"
   ]
  },
  {
   "cell_type": "code",
   "execution_count": 14,
   "id": "stupid-album",
   "metadata": {},
   "outputs": [
    {
     "data": {
      "text/plain": [
       "('Example1.txt', <http.client.HTTPMessage at 0x23f3ab24730>)"
      ]
     },
     "execution_count": 14,
     "metadata": {},
     "output_type": "execute_result"
    }
   ],
   "source": [
    "#Downloading data online\n",
    "import urllib.request\n",
    "url = 'https://s3-api.us-geo.objectstorage.softlayer.net/cf-courses-data/CognitiveClass/PY0101EN/labs/example1.txt'\n",
    "filename = 'Example1.txt'\n",
    "urllib.request.urlretrieve(url, filename)"
   ]
  },
  {
   "cell_type": "code",
   "execution_count": null,
   "id": "attractive-daisy",
   "metadata": {},
   "outputs": [],
   "source": [
    "#------------------------WRITING DATA TO A FILE-----------------------------"
   ]
  },
  {
   "cell_type": "code",
   "execution_count": 15,
   "id": "future-version",
   "metadata": {},
   "outputs": [],
   "source": [
    "File1=open(\"C:/Users/ashwi/Desktop/writtrial.txt\",\"w\")"
   ]
  },
  {
   "cell_type": "code",
   "execution_count": 18,
   "id": "adjusted-european",
   "metadata": {},
   "outputs": [],
   "source": [
    "with open(\"C:/Users/ashwi/Desktop/writtrial.txt\",\"w\") as File1:\n",
    "    File1.write(\"Armin Van\\tBuuren\\n\")\n",
    "    File1.write(\"David Geutta\\n\")"
   ]
  },
  {
   "cell_type": "code",
   "execution_count": 19,
   "id": "interior-antenna",
   "metadata": {},
   "outputs": [],
   "source": [
    "#Writing elements in a list to files\n",
    "list1=['a','b','v']\n",
    "with open(\"C:/Users/ashwi/Desktop/writtrial.txt\",\"w\") as File1:\n",
    "    for fil in list1:\n",
    "        File1.write(fil)"
   ]
  },
  {
   "cell_type": "code",
   "execution_count": 20,
   "id": "anonymous-passing",
   "metadata": {},
   "outputs": [],
   "source": [
    "#\"a\" can be used to append a file, without making new one\n",
    "with open(\"C:/Users/ashwi/Desktop/writtrial.txt\",\"a\") as File1:\n",
    "    File1.write(\"Append statement\")"
   ]
  },
  {
   "cell_type": "code",
   "execution_count": 25,
   "id": "covered-bookmark",
   "metadata": {},
   "outputs": [],
   "source": [
    "#Copying cintent from one file to another\n",
    "with open(\"C:/Users/ashwi/Desktop/writtrial.txt\",\"r\") as readfile:\n",
    "    with open(\"C:/Users/ashwi/Desktop/trial.txt\",\"w\") as writefile:\n",
    "        for line in readfile:\n",
    "            writefile.write(line)"
   ]
  },
  {
   "cell_type": "code",
   "execution_count": null,
   "id": "exciting-tuner",
   "metadata": {},
   "outputs": [],
   "source": [
    "#r+,w+ and a+ are other modes , a+ can be used to avoid the specifics of what can be done to a file"
   ]
  },
  {
   "cell_type": "code",
   "execution_count": 24,
   "id": "dress-muscle",
   "metadata": {},
   "outputs": [],
   "source": [
    "#------------------------LOADING DATA WITH PANDAS-------------------------------"
   ]
  },
  {
   "cell_type": "code",
   "execution_count": 26,
   "id": "synthetic-vinyl",
   "metadata": {
    "collapsed": true
   },
   "outputs": [
    {
     "ename": "ModuleNotFoundError",
     "evalue": "No module named 'pandas'",
     "output_type": "error",
     "traceback": [
      "\u001b[1;31m---------------------------------------------------------------------------\u001b[0m",
      "\u001b[1;31mModuleNotFoundError\u001b[0m                       Traceback (most recent call last)",
      "\u001b[1;32m<ipython-input-26-fcacf9ccdc18>\u001b[0m in \u001b[0;36m<module>\u001b[1;34m\u001b[0m\n\u001b[1;32m----> 1\u001b[1;33m \u001b[1;32mimport\u001b[0m \u001b[0mpandas\u001b[0m \u001b[1;32mas\u001b[0m \u001b[0mpd\u001b[0m\u001b[1;33m\u001b[0m\u001b[1;33m\u001b[0m\u001b[0m\n\u001b[0m\u001b[0;32m      2\u001b[0m \u001b[0mcsv_path\u001b[0m\u001b[1;33m=\u001b[0m\u001b[1;34m'file1.csv'\u001b[0m     \u001b[1;31m#gets csv file\u001b[0m\u001b[1;33m\u001b[0m\u001b[1;33m\u001b[0m\u001b[0m\n\u001b[0;32m      3\u001b[0m \u001b[0mdf\u001b[0m\u001b[1;33m=\u001b[0m\u001b[0mpd\u001b[0m\u001b[1;33m.\u001b[0m\u001b[0mread_csv\u001b[0m\u001b[1;33m(\u001b[0m\u001b[0mcsv_path\u001b[0m\u001b[1;33m)\u001b[0m \u001b[1;31m#assigns path to data frame\u001b[0m\u001b[1;33m\u001b[0m\u001b[1;33m\u001b[0m\u001b[0m\n\u001b[0;32m      4\u001b[0m \u001b[0mdf\u001b[0m\u001b[1;33m.\u001b[0m\u001b[0mhead\u001b[0m\u001b[1;33m(\u001b[0m\u001b[1;33m)\u001b[0m                \u001b[1;31m#reads first 5 entries in dataframe\u001b[0m\u001b[1;33m\u001b[0m\u001b[1;33m\u001b[0m\u001b[0m\n",
      "\u001b[1;31mModuleNotFoundError\u001b[0m: No module named 'pandas'"
     ]
    }
   ],
   "source": [
    "import pandas as pd\n",
    "csv_path='file1.csv'     #gets csv file\n",
    "df=pd.read_csv(csv_path) #assigns path to data frame\n",
    "df.head()                #reads first 5 entries in dataframe"
   ]
  },
  {
   "cell_type": "code",
   "execution_count": 27,
   "id": "prime-track",
   "metadata": {
    "collapsed": true
   },
   "outputs": [
    {
     "ename": "ModuleNotFoundError",
     "evalue": "No module named 'pandas'",
     "output_type": "error",
     "traceback": [
      "\u001b[1;31m---------------------------------------------------------------------------\u001b[0m",
      "\u001b[1;31mModuleNotFoundError\u001b[0m                       Traceback (most recent call last)",
      "\u001b[1;32m<ipython-input-27-fa0fa3627417>\u001b[0m in \u001b[0;36m<module>\u001b[1;34m\u001b[0m\n\u001b[1;32m----> 1\u001b[1;33m \u001b[1;32mimport\u001b[0m \u001b[0mpandas\u001b[0m \u001b[1;32mas\u001b[0m \u001b[0mpd\u001b[0m\u001b[1;33m\u001b[0m\u001b[1;33m\u001b[0m\u001b[0m\n\u001b[0m\u001b[0;32m      2\u001b[0m \u001b[0mxlsx_path\u001b[0m\u001b[1;33m=\u001b[0m\u001b[1;34m'file1.csv'\u001b[0m     \u001b[1;31m#gets excel file\u001b[0m\u001b[1;33m\u001b[0m\u001b[1;33m\u001b[0m\u001b[0m\n\u001b[0;32m      3\u001b[0m \u001b[0mdf\u001b[0m\u001b[1;33m=\u001b[0m\u001b[0mpd\u001b[0m\u001b[1;33m.\u001b[0m\u001b[0mread_excel\u001b[0m\u001b[1;33m(\u001b[0m\u001b[0mxlsx_path\u001b[0m\u001b[1;33m)\u001b[0m \u001b[1;31m#assigns path to data frame\u001b[0m\u001b[1;33m\u001b[0m\u001b[1;33m\u001b[0m\u001b[0m\n\u001b[0;32m      4\u001b[0m \u001b[0mdf\u001b[0m\u001b[1;33m.\u001b[0m\u001b[0mhead\u001b[0m\u001b[1;33m(\u001b[0m\u001b[1;33m)\u001b[0m\u001b[1;33m\u001b[0m\u001b[1;33m\u001b[0m\u001b[0m\n",
      "\u001b[1;31mModuleNotFoundError\u001b[0m: No module named 'pandas'"
     ]
    }
   ],
   "source": [
    "import pandas as pd\n",
    "xlsx_path='file1.csv'     #gets excel file\n",
    "df=pd.read_excel(xlsx_path) #assigns path to data frame\n",
    "df.head()  "
   ]
  },
  {
   "cell_type": "code",
   "execution_count": 28,
   "id": "spectacular-karen",
   "metadata": {
    "collapsed": true
   },
   "outputs": [
    {
     "ename": "NameError",
     "evalue": "name 'pd' is not defined",
     "output_type": "error",
     "traceback": [
      "\u001b[1;31m---------------------------------------------------------------------------\u001b[0m",
      "\u001b[1;31mNameError\u001b[0m                                 Traceback (most recent call last)",
      "\u001b[1;32m<ipython-input-28-0c92d14cccd6>\u001b[0m in \u001b[0;36m<module>\u001b[1;34m\u001b[0m\n\u001b[0;32m      2\u001b[0m \u001b[1;31m#Data frame can be made from dictionaries, keys are colums labels , values are lists corresponding to the rows\u001b[0m\u001b[1;33m\u001b[0m\u001b[1;33m\u001b[0m\u001b[1;33m\u001b[0m\u001b[0m\n\u001b[0;32m      3\u001b[0m \u001b[0msongs\u001b[0m \u001b[1;33m=\u001b[0m \u001b[1;33m{\u001b[0m\u001b[1;34m\"Album\"\u001b[0m\u001b[1;33m:\u001b[0m\u001b[1;33m[\u001b[0m\u001b[1;34m\"Thriller\"\u001b[0m\u001b[1;33m,\u001b[0m\u001b[1;34m\"Back in Black\"\u001b[0m\u001b[1;33m,\u001b[0m\u001b[1;34m\"DSotM\"\u001b[0m\u001b[1;33m]\u001b[0m\u001b[1;33m,\u001b[0m\u001b[1;34m\"Released\"\u001b[0m\u001b[1;33m:\u001b[0m\u001b[1;33m[\u001b[0m\u001b[1;36m1992\u001b[0m\u001b[1;33m,\u001b[0m\u001b[1;36m1996\u001b[0m\u001b[1;33m,\u001b[0m\u001b[1;36m1994\u001b[0m\u001b[1;33m]\u001b[0m\u001b[1;33m,\u001b[0m\u001b[1;34m\"Rating\"\u001b[0m\u001b[1;33m:\u001b[0m\u001b[1;33m[\u001b[0m\u001b[1;36m5\u001b[0m\u001b[1;33m,\u001b[0m\u001b[1;36m4\u001b[0m\u001b[1;33m,\u001b[0m\u001b[1;36m3.2\u001b[0m\u001b[1;33m]\u001b[0m\u001b[1;33m}\u001b[0m\u001b[1;33m\u001b[0m\u001b[1;33m\u001b[0m\u001b[0m\n\u001b[1;32m----> 4\u001b[1;33m \u001b[0msongs_frame\u001b[0m\u001b[1;33m=\u001b[0m\u001b[0mpd\u001b[0m\u001b[1;33m.\u001b[0m\u001b[0mDataFrame\u001b[0m\u001b[1;33m(\u001b[0m\u001b[0msongs\u001b[0m\u001b[1;33m)\u001b[0m\u001b[1;33m\u001b[0m\u001b[1;33m\u001b[0m\u001b[0m\n\u001b[0m",
      "\u001b[1;31mNameError\u001b[0m: name 'pd' is not defined"
     ]
    }
   ],
   "source": [
    "#Data frame contains rows and columns\n",
    "#Data frame can be made from dictionaries, keys are colums labels , values are lists corresponding to the rows\n",
    "songs = {\"Album\":[\"Thriller\",\"Back in Black\",\"DSotM\"],\"Released\":[1992,1996,1994],\"Rating\":[5,4,3.2]}\n",
    "songs_frame=pd.DataFrame(songs)\n"
   ]
  },
  {
   "cell_type": "code",
   "execution_count": 29,
   "id": "three-dance",
   "metadata": {
    "collapsed": true
   },
   "outputs": [
    {
     "ename": "NameError",
     "evalue": "name 'df' is not defined",
     "output_type": "error",
     "traceback": [
      "\u001b[1;31m---------------------------------------------------------------------------\u001b[0m",
      "\u001b[1;31mNameError\u001b[0m                                 Traceback (most recent call last)",
      "\u001b[1;32m<ipython-input-29-b9741b8dc831>\u001b[0m in \u001b[0;36m<module>\u001b[1;34m\u001b[0m\n\u001b[0;32m      1\u001b[0m \u001b[1;31m#New columns can be added\u001b[0m\u001b[1;33m\u001b[0m\u001b[1;33m\u001b[0m\u001b[1;33m\u001b[0m\u001b[0m\n\u001b[1;32m----> 2\u001b[1;33m \u001b[0my\u001b[0m \u001b[1;33m=\u001b[0m \u001b[0mdf\u001b[0m\u001b[1;33m[\u001b[0m\u001b[1;33m[\u001b[0m\u001b[1;34m\"Artist\"\u001b[0m\u001b[1;33m,\u001b[0m\u001b[1;34m\"Name\"\u001b[0m\u001b[1;33m,\u001b[0m \u001b[1;34m\"Label\"\u001b[0m\u001b[1;33m]\u001b[0m\u001b[1;33m]\u001b[0m\u001b[1;33m\u001b[0m\u001b[1;33m\u001b[0m\u001b[0m\n\u001b[0m",
      "\u001b[1;31mNameError\u001b[0m: name 'df' is not defined"
     ]
    }
   ],
   "source": [
    "#New columns can be added\n",
    "y = df[[\"Artist\",\"Name\", \"Label\"]]"
   ]
  },
  {
   "cell_type": "code",
   "execution_count": 30,
   "id": "manufactured-spirituality",
   "metadata": {
    "collapsed": true
   },
   "outputs": [
    {
     "ename": "NameError",
     "evalue": "name 'df' is not defined",
     "output_type": "error",
     "traceback": [
      "\u001b[1;31m---------------------------------------------------------------------------\u001b[0m",
      "\u001b[1;31mNameError\u001b[0m                                 Traceback (most recent call last)",
      "\u001b[1;32m<ipython-input-30-662d76966d1a>\u001b[0m in \u001b[0;36m<module>\u001b[1;34m\u001b[0m\n\u001b[0;32m      1\u001b[0m \u001b[1;31m#elements can be accessed by ix method df.ix[row,column]\u001b[0m\u001b[1;33m\u001b[0m\u001b[1;33m\u001b[0m\u001b[1;33m\u001b[0m\u001b[0m\n\u001b[1;32m----> 2\u001b[1;33m \u001b[0mdf\u001b[0m\u001b[1;33m.\u001b[0m\u001b[0mix\u001b[0m\u001b[1;33m[\u001b[0m\u001b[1;36m0\u001b[0m\u001b[1;33m,\u001b[0m\u001b[1;36m2\u001b[0m\u001b[1;33m]\u001b[0m\u001b[1;33m\u001b[0m\u001b[1;33m\u001b[0m\u001b[0m\n\u001b[0m",
      "\u001b[1;31mNameError\u001b[0m: name 'df' is not defined"
     ]
    }
   ],
   "source": [
    "#elements can be accessed by ix method df.ix[row,column]\n",
    "df.ix[0,2]\n",
    "#or\n",
    "df.ix[o,\"Artist\"]"
   ]
  },
  {
   "cell_type": "code",
   "execution_count": null,
   "id": "rental-surfing",
   "metadata": {},
   "outputs": [],
   "source": [
    "#We can slice a data frame and assign it to a new variable ths forming a new data fram\n",
    "z=df.ix[0:2,0:3]\n",
    "#or\n",
    "z=df.ix[0:2,\"Artist\":\"Label\"]\n"
   ]
  },
  {
   "cell_type": "code",
   "execution_count": null,
   "id": "signed-holmes",
   "metadata": {},
   "outputs": [],
   "source": [
    "#Finding unique values only under a column\n",
    "df[\"Year\"].unique()"
   ]
  },
  {
   "cell_type": "code",
   "execution_count": null,
   "id": "caring-california",
   "metadata": {},
   "outputs": [],
   "source": [
    "#Finding values greater than a certain value\n",
    "df1 = df[df[\"Year\"]>1980]\n",
    "df1.to_csv(\"newsongs.csv\")     #saves new dataframe as csv file"
   ]
  },
  {
   "cell_type": "code",
   "execution_count": null,
   "id": "second-westminster",
   "metadata": {},
   "outputs": [],
   "source": [
    "#-------------------------SIMPLE APIs--------------------------------"
   ]
  },
  {
   "cell_type": "code",
   "execution_count": null,
   "id": "combined-mediterranean",
   "metadata": {},
   "outputs": [],
   "source": [
    "#Rest APIs allow user to communicate with the internet\n",
    "import pandas as pd\n",
    "from nba_api.stats.static import teams\n",
    "from nba_api.stats.endpoints import leaguegamefinder\n",
    "nba_teams=teams.get_teams()\n",
    "nba_teams[:5]\n",
    "def one_dict(list_dict):\n",
    "    keys=list_dict[0].keys()\n",
    "    out_dict={key:[] for key in keys}\n",
    "    for dict_ in list_dict:\n",
    "        for key, value in dict_.items():\n",
    "            out_dict[key].append(value)\n",
    "        return out_dict\n",
    "dict_nba_team=one_dict(nba_teams)\n",
    "\n",
    "df_teams=pd.DataFrame(dict_nba_team)\n",
    "df_teams.head()\n",
    "\n",
    "df_hawks=df_teams[df_teams['nickname']=='Hawks']\n",
    "df_hawks\n",
    "\n",
    "id_hawks=df_hawks[['id']].values[0][0]\n",
    "id_hawks\n",
    "\n",
    "gamefinder = leaguegamefinder.LeagueGameFinder(team_id_nullable=id_hawks)\n",
    "games=gamefinder.get_data_frames()[0]\n",
    "print(games.head())"
   ]
  },
  {
   "cell_type": "code",
   "execution_count": null,
   "id": "naval-spirituality",
   "metadata": {},
   "outputs": [],
   "source": [
    "#API key is a way to access the API\n",
    "#IBMSpeechToText\n",
    "from ibm_watson import SpeechToTextV1\n",
    "url_s2t=\"https://api.eu-gb.speech-to-text.watson.cloud.ibm.com/instances/29eef6af-987f-4491-b4d1-7853bf409323\"\n",
    "iam_apikey_s2t=\"NgINQ4f7p13ya20elhEiI6OVGh5SgxpqdN5n86ThgjyZ\"\n",
    "s2t=SpeechToTextV1(authenticator=iam_apikey_s2t,url=url_s2t)\n",
    "\n",
    "filename='hello_this_is_python.wav'\n",
    "with open(filename,mode='rb') as wav:\n",
    "    response=s2t.recognize(audio=wav,content_type='audio/wav')\n",
    "response.result\n",
    "recognized_text=response.result['results'][0][\"alternatives\"][0][\"transcript\"]"
   ]
  },
  {
   "cell_type": "code",
   "execution_count": null,
   "id": "hybrid-maine",
   "metadata": {},
   "outputs": [],
   "source": []
  }
 ],
 "metadata": {
  "kernelspec": {
   "display_name": "Python 3",
   "language": "python",
   "name": "python3"
  },
  "language_info": {
   "codemirror_mode": {
    "name": "ipython",
    "version": 3
   },
   "file_extension": ".py",
   "mimetype": "text/x-python",
   "name": "python",
   "nbconvert_exporter": "python",
   "pygments_lexer": "ipython3",
   "version": "3.9.1"
  }
 },
 "nbformat": 4,
 "nbformat_minor": 5
}
