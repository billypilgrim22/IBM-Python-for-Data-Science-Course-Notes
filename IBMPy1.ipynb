{
 "cells": [
  {
   "cell_type": "code",
   "execution_count": 3,
   "id": "southern-expense",
   "metadata": {
    "scrolled": false
   },
   "outputs": [],
   "source": [
    "#-------------------------IBM Python for Data Science---------------------------"
   ]
  },
  {
   "cell_type": "code",
   "execution_count": null,
   "id": "incorrect-subdivision",
   "metadata": {},
   "outputs": [],
   "source": [
    "#--------------------------Types-----------------------"
   ]
  },
  {
   "cell_type": "code",
   "execution_count": 2,
   "id": "sudden-therapist",
   "metadata": {},
   "outputs": [
    {
     "data": {
      "text/plain": [
       "float"
      ]
     },
     "execution_count": 2,
     "metadata": {},
     "output_type": "execute_result"
    }
   ],
   "source": [
    "type(51.7)"
   ]
  },
  {
   "cell_type": "code",
   "execution_count": null,
   "id": "infectious-visitor",
   "metadata": {},
   "outputs": [],
   "source": []
  },
  {
   "cell_type": "code",
   "execution_count": 6,
   "id": "built-admission",
   "metadata": {},
   "outputs": [
    {
     "data": {
      "text/plain": [
       "str"
      ]
     },
     "execution_count": 6,
     "metadata": {},
     "output_type": "execute_result"
    }
   ],
   "source": [
    "type(\"fgr\")"
   ]
  },
  {
   "cell_type": "code",
   "execution_count": 7,
   "id": "violent-wings",
   "metadata": {},
   "outputs": [
    {
     "data": {
      "text/plain": [
       "2.0"
      ]
     },
     "execution_count": 7,
     "metadata": {},
     "output_type": "execute_result"
    }
   ],
   "source": [
    "#typecasting : changing type\n",
    "float(2)"
   ]
  },
  {
   "cell_type": "code",
   "execution_count": 8,
   "id": "handy-investing",
   "metadata": {},
   "outputs": [
    {
     "data": {
      "text/plain": [
       "'2'"
      ]
     },
     "execution_count": 8,
     "metadata": {},
     "output_type": "execute_result"
    }
   ],
   "source": [
    "str(2)"
   ]
  },
  {
   "cell_type": "code",
   "execution_count": 11,
   "id": "employed-italian",
   "metadata": {},
   "outputs": [
    {
     "data": {
      "text/plain": [
       "23"
      ]
     },
     "execution_count": 11,
     "metadata": {},
     "output_type": "execute_result"
    }
   ],
   "source": [
    "int('23')"
   ]
  },
  {
   "cell_type": "code",
   "execution_count": 12,
   "id": "driven-legislature",
   "metadata": {},
   "outputs": [
    {
     "data": {
      "text/plain": [
       "bool"
      ]
     },
     "execution_count": 12,
     "metadata": {},
     "output_type": "execute_result"
    }
   ],
   "source": [
    "#boolean value are True and False\n",
    "type(True)"
   ]
  },
  {
   "cell_type": "code",
   "execution_count": 14,
   "id": "competitive-expansion",
   "metadata": {},
   "outputs": [
    {
     "data": {
      "text/plain": [
       "1"
      ]
     },
     "execution_count": 14,
     "metadata": {},
     "output_type": "execute_result"
    }
   ],
   "source": [
    "int(True)"
   ]
  },
  {
   "cell_type": "code",
   "execution_count": 15,
   "id": "annual-rebecca",
   "metadata": {},
   "outputs": [
    {
     "data": {
      "text/plain": [
       "0.0"
      ]
     },
     "execution_count": 15,
     "metadata": {},
     "output_type": "execute_result"
    }
   ],
   "source": [
    "float(False)"
   ]
  },
  {
   "cell_type": "code",
   "execution_count": 1,
   "id": "ethical-owner",
   "metadata": {},
   "outputs": [
    {
     "data": {
      "text/plain": [
       "False"
      ]
     },
     "execution_count": 1,
     "metadata": {},
     "output_type": "execute_result"
    }
   ],
   "source": [
    "bool(0)"
   ]
  },
  {
   "cell_type": "code",
   "execution_count": 3,
   "id": "significant-shell",
   "metadata": {},
   "outputs": [
    {
     "data": {
      "text/plain": [
       "5.0"
      ]
     },
     "execution_count": 3,
     "metadata": {},
     "output_type": "execute_result"
    }
   ],
   "source": [
    "#Mathematical Operaton\n",
    "25/5"
   ]
  },
  {
   "cell_type": "code",
   "execution_count": 4,
   "id": "overall-webcam",
   "metadata": {},
   "outputs": [
    {
     "data": {
      "text/plain": [
       "6"
      ]
     },
     "execution_count": 4,
     "metadata": {},
     "output_type": "execute_result"
    }
   ],
   "source": [
    "25//4"
   ]
  },
  {
   "cell_type": "code",
   "execution_count": 5,
   "id": "turkish-lindsay",
   "metadata": {},
   "outputs": [
    {
     "data": {
      "text/plain": [
       "124"
      ]
     },
     "execution_count": 5,
     "metadata": {},
     "output_type": "execute_result"
    }
   ],
   "source": [
    "2*60+4"
   ]
  },
  {
   "cell_type": "code",
   "execution_count": 6,
   "id": "superb-aspect",
   "metadata": {},
   "outputs": [],
   "source": [
    "#Variable used to store values\n",
    "m=54"
   ]
  },
  {
   "cell_type": "code",
   "execution_count": 8,
   "id": "fundamental-assurance",
   "metadata": {},
   "outputs": [
    {
     "name": "stdout",
     "output_type": "stream",
     "text": [
      "54\n"
     ]
    }
   ],
   "source": [
    "print(m)"
   ]
  },
  {
   "cell_type": "code",
   "execution_count": 4,
   "id": "automatic-catering",
   "metadata": {},
   "outputs": [
    {
     "data": {
      "text/plain": [
       "25.0"
      ]
     },
     "execution_count": 4,
     "metadata": {},
     "output_type": "execute_result"
    }
   ],
   "source": [
    "#type converting varable\n",
    "m=25\n",
    "float(m)"
   ]
  },
  {
   "cell_type": "code",
   "execution_count": null,
   "id": "going-dating",
   "metadata": {},
   "outputs": [],
   "source": [
    "#----------------------------STRINGS--------------------------------"
   ]
  },
  {
   "cell_type": "code",
   "execution_count": 4,
   "id": "afraid-buying",
   "metadata": {},
   "outputs": [
    {
     "name": "stdout",
     "output_type": "stream",
     "text": [
      "e\n"
     ]
    }
   ],
   "source": [
    "#String Operations\n",
    "#String can be considered as an ordered sequence\n",
    "#Index for sstring can be from 0 to n , or from -1 but backwards , with -1 being address of the last letter in the string\n",
    "s=\"Ashley Titus\"\n",
    "print(s[4])"
   ]
  },
  {
   "cell_type": "code",
   "execution_count": 5,
   "id": "inner-copying",
   "metadata": {},
   "outputs": [
    {
     "name": "stdout",
     "output_type": "stream",
     "text": [
      "e\n"
     ]
    }
   ],
   "source": [
    "print(s[-8])"
   ]
  },
  {
   "cell_type": "code",
   "execution_count": 8,
   "id": "adapted-marketplace",
   "metadata": {},
   "outputs": [
    {
     "name": "stdout",
     "output_type": "stream",
     "text": [
      "Ashley T\n"
     ]
    }
   ],
   "source": [
    "#Rang of characters in a string can be represented by s[a:b]\n",
    "print(s[0:8])"
   ]
  },
  {
   "cell_type": "code",
   "execution_count": 9,
   "id": "correct-consent",
   "metadata": {},
   "outputs": [
    {
     "data": {
      "text/plain": [
       "'Ahe iu'"
      ]
     },
     "execution_count": 9,
     "metadata": {},
     "output_type": "execute_result"
    }
   ],
   "source": [
    "#You can display every nth value, or every nth value upto a ceratin index\n",
    "s[::2]"
   ]
  },
  {
   "cell_type": "code",
   "execution_count": 10,
   "id": "focused-hurricane",
   "metadata": {},
   "outputs": [
    {
     "data": {
      "text/plain": [
       "'Al '"
      ]
     },
     "execution_count": 10,
     "metadata": {},
     "output_type": "execute_result"
    }
   ],
   "source": [
    "s[0:7:3]"
   ]
  },
  {
   "cell_type": "code",
   "execution_count": 11,
   "id": "parallel-facility",
   "metadata": {},
   "outputs": [
    {
     "name": "stdout",
     "output_type": "stream",
     "text": [
      "Ahe iu\n"
     ]
    }
   ],
   "source": [
    "print(s[::2])"
   ]
  },
  {
   "cell_type": "code",
   "execution_count": 12,
   "id": "maritime-organ",
   "metadata": {},
   "outputs": [
    {
     "data": {
      "text/plain": [
       "12"
      ]
     },
     "execution_count": 12,
     "metadata": {},
     "output_type": "execute_result"
    }
   ],
   "source": [
    "#len(x) to find length of the string\n",
    "len(s)"
   ]
  },
  {
   "cell_type": "code",
   "execution_count": 14,
   "id": "characteristic-switzerland",
   "metadata": {},
   "outputs": [
    {
     "name": "stdout",
     "output_type": "stream",
     "text": [
      "Ashley Titus is a boy.\n"
     ]
    }
   ],
   "source": [
    "#Concatenating 2 string\n",
    "print(s+\" is a boy.\")"
   ]
  },
  {
   "cell_type": "code",
   "execution_count": 15,
   "id": "vanilla-jones",
   "metadata": {},
   "outputs": [
    {
     "data": {
      "text/plain": [
       "'Ashley TitusAshley TitusAshley TitusAshley Titus'"
      ]
     },
     "execution_count": 15,
     "metadata": {},
     "output_type": "execute_result"
    }
   ],
   "source": [
    "4*s"
   ]
  },
  {
   "cell_type": "code",
   "execution_count": 16,
   "id": "embedded-tuition",
   "metadata": {},
   "outputs": [
    {
     "name": "stdout",
     "output_type": "stream",
     "text": [
      "NLE\\Top\\Shotta\n"
     ]
    }
   ],
   "source": [
    "#to place backslash in a string use \\\\ , or place r in from of the string\n",
    "print(r\"NLE\\Top\\Shotta\")"
   ]
  },
  {
   "cell_type": "code",
   "execution_count": 20,
   "id": "governmental-maine",
   "metadata": {},
   "outputs": [
    {
     "name": "stdout",
     "output_type": "stream",
     "text": [
      "ASHLEY TITUS\n"
     ]
    }
   ],
   "source": [
    "sup = s.upper()\n",
    "print(sup)"
   ]
  },
  {
   "cell_type": "code",
   "execution_count": 24,
   "id": "constant-possible",
   "metadata": {},
   "outputs": [
    {
     "name": "stdout",
     "output_type": "stream",
     "text": [
      "Anitha Titus\n"
     ]
    }
   ],
   "source": [
    "#Replace one word with another word \n",
    "srep=s.replace(\"Ashley\",\"Anitha\")\n",
    "print(srep)"
   ]
  },
  {
   "cell_type": "code",
   "execution_count": 25,
   "id": "forty-bargain",
   "metadata": {},
   "outputs": [
    {
     "data": {
      "text/plain": [
       "0"
      ]
     },
     "execution_count": 25,
     "metadata": {},
     "output_type": "execute_result"
    }
   ],
   "source": [
    "#find returns starting index of the string\n",
    "s.find(\"As\") "
   ]
  }
 ],
 "metadata": {
  "kernelspec": {
   "display_name": "Python 3",
   "language": "python",
   "name": "python3"
  },
  "language_info": {
   "codemirror_mode": {
    "name": "ipython",
    "version": 3
   },
   "file_extension": ".py",
   "mimetype": "text/x-python",
   "name": "python",
   "nbconvert_exporter": "python",
   "pygments_lexer": "ipython3",
   "version": "3.9.1"
  }
 },
 "nbformat": 4,
 "nbformat_minor": 5
}