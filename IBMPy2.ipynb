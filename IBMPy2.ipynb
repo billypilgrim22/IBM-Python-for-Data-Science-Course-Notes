{
 "cells": [
  {
   "cell_type": "code",
   "execution_count": 30,
   "id": "unknown-appliance",
   "metadata": {},
   "outputs": [],
   "source": [
    "#-------------------------------------TUPLES------------------------------------------"
   ]
  },
  {
   "cell_type": "code",
   "execution_count": 31,
   "id": "genetic-happiness",
   "metadata": {},
   "outputs": [
    {
     "data": {
      "text/plain": [
       "tuple"
      ]
     },
     "execution_count": 31,
     "metadata": {},
     "output_type": "execute_result"
    }
   ],
   "source": [
    "#Tuples are an ordered sequence\n",
    "#Tuple represented by (number,string,float....) , type of a tuple is tuple\n",
    "tuple1 = (15,21,\"Ash\",4.53)\n",
    "type(tuple1)"
   ]
  },
  {
   "cell_type": "code",
   "execution_count": 32,
   "id": "opposite-thunder",
   "metadata": {},
   "outputs": [
    {
     "name": "stdout",
     "output_type": "stream",
     "text": [
      "(15, 21, 'Ash', 4.53)\n"
     ]
    }
   ],
   "source": [
    "print(tuple1)"
   ]
  },
  {
   "cell_type": "code",
   "execution_count": 33,
   "id": "desirable-turkish",
   "metadata": {},
   "outputs": [
    {
     "data": {
      "text/plain": [
       "4"
      ]
     },
     "execution_count": 33,
     "metadata": {},
     "output_type": "execute_result"
    }
   ],
   "source": [
    "len(tuple1)"
   ]
  },
  {
   "cell_type": "code",
   "execution_count": 34,
   "id": "early-detection",
   "metadata": {},
   "outputs": [
    {
     "name": "stdout",
     "output_type": "stream",
     "text": [
      "Ash\n",
      "Ash\n"
     ]
    }
   ],
   "source": [
    "#Each element of a tuple can be accessed using the index (can also use negative index with -1 being index of last element)\n",
    "print(tuple1[2])\n",
    "print(tuple1[-2])"
   ]
  },
  {
   "cell_type": "code",
   "execution_count": 35,
   "id": "received-proceeding",
   "metadata": {},
   "outputs": [
    {
     "name": "stdout",
     "output_type": "stream",
     "text": [
      "(15, 21, 'Ash', 4.53, 55, 'ley', 7.4)\n"
     ]
    }
   ],
   "source": [
    "#Concatenate tuples by just +\n",
    "tuple2 = tuple1 + (55,\"ley\",7.4)\n",
    "print(tuple2)"
   ]
  },
  {
   "cell_type": "code",
   "execution_count": 36,
   "id": "japanese-rouge",
   "metadata": {},
   "outputs": [
    {
     "name": "stdout",
     "output_type": "stream",
     "text": [
      "('Ash', 4.53, 55)\n"
     ]
    }
   ],
   "source": [
    "#Range of elements in tuple can be accessed same like in string\n",
    "print(tuple2[2:5])"
   ]
  },
  {
   "cell_type": "code",
   "execution_count": 37,
   "id": "separated-criminal",
   "metadata": {},
   "outputs": [
    {
     "ename": "TypeError",
     "evalue": "'tuple' object does not support item assignment",
     "output_type": "error",
     "traceback": [
      "\u001b[1;31m---------------------------------------------------------------------------\u001b[0m",
      "\u001b[1;31mTypeError\u001b[0m                                 Traceback (most recent call last)",
      "\u001b[1;32m<ipython-input-37-8dcf9be59e19>\u001b[0m in \u001b[0;36m<module>\u001b[1;34m\u001b[0m\n\u001b[0;32m      1\u001b[0m \u001b[1;31m#Tuples are immutable\u001b[0m\u001b[1;33m\u001b[0m\u001b[1;33m\u001b[0m\u001b[1;33m\u001b[0m\u001b[0m\n\u001b[1;32m----> 2\u001b[1;33m \u001b[0mtuple2\u001b[0m\u001b[1;33m[\u001b[0m\u001b[1;36m2\u001b[0m\u001b[1;33m]\u001b[0m\u001b[1;33m=\u001b[0m\u001b[1;36m15\u001b[0m\u001b[1;33m\u001b[0m\u001b[1;33m\u001b[0m\u001b[0m\n\u001b[0m",
      "\u001b[1;31mTypeError\u001b[0m: 'tuple' object does not support item assignment"
     ]
    }
   ],
   "source": [
    "#Tuples are immutable\n",
    "tuple2[2]=15"
   ]
  },
  {
   "cell_type": "code",
   "execution_count": 38,
   "id": "indonesian-century",
   "metadata": {},
   "outputs": [
    {
     "name": "stdout",
     "output_type": "stream",
     "text": [
      "[1, 3, 9, 54, 56, 76]\n"
     ]
    }
   ],
   "source": [
    "#Sorting a tuple\n",
    "t=(54,3,76,56,1,9)\n",
    "t2=sorted(t)\n",
    "print(t2)"
   ]
  },
  {
   "cell_type": "code",
   "execution_count": 39,
   "id": "ideal-convention",
   "metadata": {},
   "outputs": [
    {
     "name": "stdout",
     "output_type": "stream",
     "text": [
      "meh\n"
     ]
    }
   ],
   "source": [
    "#Tuples can be nested\n",
    "nt = (1,2,(\"pop\",\"rock\"),(3,4),(\"disco\",(1,\"meh\")))\n",
    "print(nt[4][1][1])"
   ]
  },
  {
   "cell_type": "code",
   "execution_count": 40,
   "id": "sensitive-marker",
   "metadata": {},
   "outputs": [],
   "source": [
    "#----------------------------------LIST----------------------------------------------"
   ]
  },
  {
   "cell_type": "code",
   "execution_count": 41,
   "id": "missing-pointer",
   "metadata": {},
   "outputs": [
    {
     "name": "stdout",
     "output_type": "stream",
     "text": [
      "sapien\n"
     ]
    }
   ],
   "source": [
    "#List is also an ordered sequence , and they are mutable\n",
    "l = [15,3,\"sapien\",45.33,1]\n",
    "print(l[2])"
   ]
  },
  {
   "cell_type": "code",
   "execution_count": 42,
   "id": "destroyed-thesis",
   "metadata": {},
   "outputs": [
    {
     "name": "stdout",
     "output_type": "stream",
     "text": [
      "[15, 3, 'sample', 45.33, 1]\n"
     ]
    }
   ],
   "source": [
    "l[2] = \"sample\"\n",
    "print(l)"
   ]
  },
  {
   "cell_type": "code",
   "execution_count": 43,
   "id": "adolescent-validity",
   "metadata": {},
   "outputs": [
    {
     "name": "stdout",
     "output_type": "stream",
     "text": [
      "[[15, 5], 'sapien', (45.33, 1)]\n"
     ]
    }
   ],
   "source": [
    "#Lists can also be nested with other lists and tuples [a,b,(c,d,e),f,[g,h]]\n",
    "l1 = [[15,3],\"sapien\",(45.33,1)]\n",
    "l1[0][1]=5\n",
    "print(l1)"
   ]
  },
  {
   "cell_type": "code",
   "execution_count": 44,
   "id": "prescription-amplifier",
   "metadata": {},
   "outputs": [
    {
     "name": "stdout",
     "output_type": "stream",
     "text": [
      "[15, 3, 'sample', 45.33, 1, 5, 4]\n"
     ]
    }
   ],
   "source": [
    "#Index conventions for list and tuples are same\n",
    "#new elements are added to the list by using x.extend([a,b])\n",
    "l.extend([5,4])\n",
    "print(l)"
   ]
  },
  {
   "cell_type": "code",
   "execution_count": 45,
   "id": "confirmed-announcement",
   "metadata": {},
   "outputs": [
    {
     "name": "stdout",
     "output_type": "stream",
     "text": [
      "[15, 3, 'sample', 45.33, 1, 5, 4, ['pop', 10]]\n"
     ]
    }
   ],
   "source": [
    "#append is used to add one element to the list \n",
    "l.append([\"pop\",10])\n",
    "print(l)"
   ]
  },
  {
   "cell_type": "code",
   "execution_count": 46,
   "id": "detailed-museum",
   "metadata": {},
   "outputs": [
    {
     "name": "stdout",
     "output_type": "stream",
     "text": [
      "[45.33, 1, 5, 4, ['pop', 10]]\n"
     ]
    }
   ],
   "source": [
    "#Everytime we apply a method , the list changes\n",
    "#delete element in the lest using del(x[i])\n",
    "del(l[0:3])\n",
    "print(l)"
   ]
  },
  {
   "cell_type": "code",
   "execution_count": 47,
   "id": "unauthorized-deputy",
   "metadata": {},
   "outputs": [
    {
     "name": "stdout",
     "output_type": "stream",
     "text": [
      "['ashley', 'titus', '18', '@', 'gmail', 'com']\n"
     ]
    }
   ],
   "source": [
    "#Convert a string to a list using  .split()\n",
    "s=\"ashley titus 18 @ gmail com\"\n",
    "l3=s.split()\n",
    "print(l3)"
   ]
  },
  {
   "cell_type": "code",
   "execution_count": 48,
   "id": "excessive-wilson",
   "metadata": {},
   "outputs": [
    {
     "name": "stdout",
     "output_type": "stream",
     "text": [
      "['b', 'h', 'y', 'o', 'l', '']\n"
     ]
    }
   ],
   "source": [
    "s=\"bAhAyAoAlA\"\n",
    "l=s.split(\"A\") #diplays elements seperated by \"A\" \n",
    "print(l)"
   ]
  },
  {
   "cell_type": "code",
   "execution_count": 49,
   "id": "advisory-homeless",
   "metadata": {},
   "outputs": [
    {
     "name": "stdout",
     "output_type": "stream",
     "text": [
      "Help on list object:\n",
      "\n",
      "class list(object)\n",
      " |  list(iterable=(), /)\n",
      " |  \n",
      " |  Built-in mutable sequence.\n",
      " |  \n",
      " |  If no argument is given, the constructor creates a new empty list.\n",
      " |  The argument must be an iterable if specified.\n",
      " |  \n",
      " |  Methods defined here:\n",
      " |  \n",
      " |  __add__(self, value, /)\n",
      " |      Return self+value.\n",
      " |  \n",
      " |  __contains__(self, key, /)\n",
      " |      Return key in self.\n",
      " |  \n",
      " |  __delitem__(self, key, /)\n",
      " |      Delete self[key].\n",
      " |  \n",
      " |  __eq__(self, value, /)\n",
      " |      Return self==value.\n",
      " |  \n",
      " |  __ge__(self, value, /)\n",
      " |      Return self>=value.\n",
      " |  \n",
      " |  __getattribute__(self, name, /)\n",
      " |      Return getattr(self, name).\n",
      " |  \n",
      " |  __getitem__(...)\n",
      " |      x.__getitem__(y) <==> x[y]\n",
      " |  \n",
      " |  __gt__(self, value, /)\n",
      " |      Return self>value.\n",
      " |  \n",
      " |  __iadd__(self, value, /)\n",
      " |      Implement self+=value.\n",
      " |  \n",
      " |  __imul__(self, value, /)\n",
      " |      Implement self*=value.\n",
      " |  \n",
      " |  __init__(self, /, *args, **kwargs)\n",
      " |      Initialize self.  See help(type(self)) for accurate signature.\n",
      " |  \n",
      " |  __iter__(self, /)\n",
      " |      Implement iter(self).\n",
      " |  \n",
      " |  __le__(self, value, /)\n",
      " |      Return self<=value.\n",
      " |  \n",
      " |  __len__(self, /)\n",
      " |      Return len(self).\n",
      " |  \n",
      " |  __lt__(self, value, /)\n",
      " |      Return self<value.\n",
      " |  \n",
      " |  __mul__(self, value, /)\n",
      " |      Return self*value.\n",
      " |  \n",
      " |  __ne__(self, value, /)\n",
      " |      Return self!=value.\n",
      " |  \n",
      " |  __repr__(self, /)\n",
      " |      Return repr(self).\n",
      " |  \n",
      " |  __reversed__(self, /)\n",
      " |      Return a reverse iterator over the list.\n",
      " |  \n",
      " |  __rmul__(self, value, /)\n",
      " |      Return value*self.\n",
      " |  \n",
      " |  __setitem__(self, key, value, /)\n",
      " |      Set self[key] to value.\n",
      " |  \n",
      " |  __sizeof__(self, /)\n",
      " |      Return the size of the list in memory, in bytes.\n",
      " |  \n",
      " |  append(self, object, /)\n",
      " |      Append object to the end of the list.\n",
      " |  \n",
      " |  clear(self, /)\n",
      " |      Remove all items from list.\n",
      " |  \n",
      " |  copy(self, /)\n",
      " |      Return a shallow copy of the list.\n",
      " |  \n",
      " |  count(self, value, /)\n",
      " |      Return number of occurrences of value.\n",
      " |  \n",
      " |  extend(self, iterable, /)\n",
      " |      Extend list by appending elements from the iterable.\n",
      " |  \n",
      " |  index(self, value, start=0, stop=9223372036854775807, /)\n",
      " |      Return first index of value.\n",
      " |      \n",
      " |      Raises ValueError if the value is not present.\n",
      " |  \n",
      " |  insert(self, index, object, /)\n",
      " |      Insert object before index.\n",
      " |  \n",
      " |  pop(self, index=-1, /)\n",
      " |      Remove and return item at index (default last).\n",
      " |      \n",
      " |      Raises IndexError if list is empty or index is out of range.\n",
      " |  \n",
      " |  remove(self, value, /)\n",
      " |      Remove first occurrence of value.\n",
      " |      \n",
      " |      Raises ValueError if the value is not present.\n",
      " |  \n",
      " |  reverse(self, /)\n",
      " |      Reverse *IN PLACE*.\n",
      " |  \n",
      " |  sort(self, /, *, key=None, reverse=False)\n",
      " |      Sort the list in ascending order and return None.\n",
      " |      \n",
      " |      The sort is in-place (i.e. the list itself is modified) and stable (i.e. the\n",
      " |      order of two equal elements is maintained).\n",
      " |      \n",
      " |      If a key function is given, apply it once to each list item and sort them,\n",
      " |      ascending or descending, according to their function values.\n",
      " |      \n",
      " |      The reverse flag can be set to sort in descending order.\n",
      " |  \n",
      " |  ----------------------------------------------------------------------\n",
      " |  Class methods defined here:\n",
      " |  \n",
      " |  __class_getitem__(...) from builtins.type\n",
      " |      See PEP 585\n",
      " |  \n",
      " |  ----------------------------------------------------------------------\n",
      " |  Static methods defined here:\n",
      " |  \n",
      " |  __new__(*args, **kwargs) from builtins.type\n",
      " |      Create and return a new object.  See help(type) for accurate signature.\n",
      " |  \n",
      " |  ----------------------------------------------------------------------\n",
      " |  Data and other attributes defined here:\n",
      " |  \n",
      " |  __hash__ = None\n",
      "\n"
     ]
    }
   ],
   "source": [
    "#Aliasing: when we say A=B regarding 2 lists , a change in any one list will reult the same change in the other list too.\n",
    "#Since A and B reference the same list\n",
    "#Aliasing can be avoided by cloning list,  x=y[:]\n",
    "l=[1,2]\n",
    "help(l)"
   ]
  },
  {
   "cell_type": "code",
   "execution_count": 50,
   "id": "outside-novel",
   "metadata": {},
   "outputs": [],
   "source": [
    "#---------------------------------------SETS----------------------------------------------"
   ]
  },
  {
   "cell_type": "code",
   "execution_count": 51,
   "id": "worst-champagne",
   "metadata": {},
   "outputs": [
    {
     "name": "stdout",
     "output_type": "stream",
     "text": [
      "{1, 2, 3, 4, 546, 6, 563, 54}\n"
     ]
    }
   ],
   "source": [
    "#Sets are a type of collection.\n",
    "#They are unordered i.e. they do not record element position\n",
    "#Sets only have unique elements\n",
    "#Set will remove duplicate items and keep only one copy\n",
    "set1={1,3,4,2,4,2,4,2,4,546,54,6,4,4,563,2,1}\n",
    "print(set1)"
   ]
  },
  {
   "cell_type": "code",
   "execution_count": 52,
   "id": "elect-spanking",
   "metadata": {},
   "outputs": [
    {
     "name": "stdout",
     "output_type": "stream",
     "text": [
      "{34, 99, 7, 'five', 9.002, 'pop'}\n"
     ]
    }
   ],
   "source": [
    "#List can be converted to a set set1=set(list1)\n",
    "list1=(\"pop\",34,7,\"five\",99,9.002,99,99)\n",
    "set1=set(list1)\n",
    "print(set1)"
   ]
  },
  {
   "cell_type": "code",
   "execution_count": 53,
   "id": "ordered-middle",
   "metadata": {},
   "outputs": [
    {
     "name": "stdout",
     "output_type": "stream",
     "text": [
      "{34, 99, 7, 'five', 9.002, 'Kanye', 'pop'}\n"
     ]
    }
   ],
   "source": [
    "#add element to a set by using A.add(element)\n",
    "set1.add(\"Kanye\")\n",
    "print(set1)"
   ]
  },
  {
   "cell_type": "code",
   "execution_count": 54,
   "id": "outer-visitor",
   "metadata": {},
   "outputs": [
    {
     "name": "stdout",
     "output_type": "stream",
     "text": [
      "{34, 99, 7, 9.002, 'Kanye', 'pop'}\n"
     ]
    }
   ],
   "source": [
    "#remove element form a set by using A.remove(element)\n",
    "set1.remove(\"five\")\n",
    "print(set1)"
   ]
  },
  {
   "cell_type": "code",
   "execution_count": 55,
   "id": "rolled-thriller",
   "metadata": {},
   "outputs": [
    {
     "data": {
      "text/plain": [
       "True"
      ]
     },
     "execution_count": 55,
     "metadata": {},
     "output_type": "execute_result"
    }
   ],
   "source": [
    "\"pop\" in set1"
   ]
  },
  {
   "cell_type": "code",
   "execution_count": 56,
   "id": "stretch-combining",
   "metadata": {},
   "outputs": [
    {
     "name": "stdout",
     "output_type": "stream",
     "text": [
      "{4, 5}\n"
     ]
    }
   ],
   "source": [
    "#Intersection of two sets can be found using symbol &\n",
    "set1={1,2,3,4,5}\n",
    "set2={4,5,6,7,8}\n",
    "set3= set1 & set2\n",
    "print(set3)"
   ]
  },
  {
   "cell_type": "code",
   "execution_count": 57,
   "id": "overhead-celebration",
   "metadata": {},
   "outputs": [
    {
     "name": "stdout",
     "output_type": "stream",
     "text": [
      "{1, 2, 3, 4, 5, 6, 7, 8}\n"
     ]
    }
   ],
   "source": [
    "#Union can be found using A.union(B)\n",
    "set4 = set1.union(set2)\n",
    "print(set4)"
   ]
  },
  {
   "cell_type": "code",
   "execution_count": 58,
   "id": "tough-antibody",
   "metadata": {},
   "outputs": [],
   "source": [
    "#------------------------------DICTIONARIES--------------------------------"
   ]
  },
  {
   "cell_type": "code",
   "execution_count": 59,
   "id": "fourth-mystery",
   "metadata": {},
   "outputs": [
    {
     "name": "stdout",
     "output_type": "stream",
     "text": [
      "{'key1': 1, 'key2': 'Two', 'key3': [3, 3, 3], 'key4': (4, 4, 4), 'key5': 5}\n"
     ]
    }
   ],
   "source": [
    "#Dictionaries have keys and values\n",
    "#keys have to be immutable anbd unique\n",
    "#values can be immutable , mutable or duplicates\n",
    "di = {\"key1\":1 , \"key2\":\"Two\" , \"key3\":[3,3,3] , \"key4\":(4,4,4) , ('key5'):5}\n",
    "print(di)"
   ]
  },
  {
   "cell_type": "code",
   "execution_count": 60,
   "id": "continuing-license",
   "metadata": {},
   "outputs": [
    {
     "name": "stdout",
     "output_type": "stream",
     "text": [
      "[3, 3, 3]\n"
     ]
    }
   ],
   "source": [
    "print(di[\"key3\"])"
   ]
  },
  {
   "cell_type": "code",
   "execution_count": 61,
   "id": "finnish-racing",
   "metadata": {},
   "outputs": [
    {
     "name": "stdout",
     "output_type": "stream",
     "text": [
      "{'key1': 1, 'key2': 'Two', 'key3': [3, 3, 3], 'key4': (4, 4, 4), 'key5': 5, 'key6': 'new entry'}\n"
     ]
    }
   ],
   "source": [
    "#Add value to dictionary by creating new key and value\n",
    "di[\"key6\"]=\"new entry\"\n",
    "print(di)"
   ]
  },
  {
   "cell_type": "code",
   "execution_count": 62,
   "id": "incorrect-darwin",
   "metadata": {},
   "outputs": [
    {
     "name": "stdout",
     "output_type": "stream",
     "text": [
      "{'key1': 1, 'key2': 'Two', 'key4': (4, 4, 4), 'key5': 5, 'key6': 'new entry'}\n"
     ]
    }
   ],
   "source": [
    "#Delete value by del(dict_name[key_name])\n",
    "del(di[\"key3\"])\n",
    "print(di)"
   ]
  },
  {
   "cell_type": "code",
   "execution_count": 63,
   "id": "upper-growing",
   "metadata": {},
   "outputs": [
    {
     "data": {
      "text/plain": [
       "True"
      ]
     },
     "execution_count": 63,
     "metadata": {},
     "output_type": "execute_result"
    }
   ],
   "source": [
    "#Check if value is in dictionary by using \"in\" command\n",
    "\"key6\" in di"
   ]
  },
  {
   "cell_type": "code",
   "execution_count": 64,
   "id": "covered-sweet",
   "metadata": {},
   "outputs": [
    {
     "data": {
      "text/plain": [
       "dict_keys(['key1', 'key2', 'key4', 'key5', 'key6'])"
      ]
     },
     "execution_count": 64,
     "metadata": {},
     "output_type": "execute_result"
    }
   ],
   "source": [
    "#To see all keys in the dictionary use method keys() , and see all values using values()\n",
    "di.keys()"
   ]
  },
  {
   "cell_type": "code",
   "execution_count": 65,
   "id": "worst-norwegian",
   "metadata": {},
   "outputs": [
    {
     "data": {
      "text/plain": [
       "dict_values([1, 'Two', (4, 4, 4), 5, 'new entry'])"
      ]
     },
     "execution_count": 65,
     "metadata": {},
     "output_type": "execute_result"
    }
   ],
   "source": [
    "di.values()"
   ]
  },
  {
   "cell_type": "code",
   "execution_count": null,
   "id": "ancient-better",
   "metadata": {},
   "outputs": [],
   "source": []
  }
 ],
 "metadata": {
  "kernelspec": {
   "display_name": "Python 3",
   "language": "python",
   "name": "python3"
  },
  "language_info": {
   "codemirror_mode": {
    "name": "ipython",
    "version": 3
   },
   "file_extension": ".py",
   "mimetype": "text/x-python",
   "name": "python",
   "nbconvert_exporter": "python",
   "pygments_lexer": "ipython3",
   "version": "3.9.1"
  }
 },
 "nbformat": 4,
 "nbformat_minor": 5
}
